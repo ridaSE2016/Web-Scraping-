{
 "cells": [
  {
   "cell_type": "markdown",
   "metadata": {},
   "source": [
    "<a><img src=\"https://ibm.box.com/shared/static/ugcqz6ohbvff804xp84y4kqnvvk3bq1g.png\" width=\"200\" align=\"center\"></a>"
   ]
  },
  {
   "cell_type": "markdown",
   "metadata": {},
   "source": [
    "<h1>Scraping and Analyzing Basketball Statistics with Python  </h1>\n",
    "<h2>Description</h2>\n"
   ]
  },
  {
   "cell_type": "markdown",
   "metadata": {},
   "source": [
    "Web scraping involves extracting data from websites. In this assignment, you will web scrape basketball statistics from Wikipedia of some of the greatest basketball players. You will perform some analysis on the data using Pandas, plot, data answer some basic questions then store the data on IBM cloud."
   ]
  },
  {
   "cell_type": "markdown",
   "metadata": {},
   "source": [
    "The players we will use are shown in the following figure from left to right we have <a href='https://en.wikipedia.org/wiki/Michael_Jordan'>Michael Jordan </a>,\n",
    "<a href='https://en.wikipedia.org/wiki/Kobe_Bryant'>Kobe Bryant</a>,\n",
    "<a href='https://en.wikipedia.org/wiki/LeBron_James'>Lebron James</a> and <a href='https://en.wikipedia.org/wiki/Stephen_Curry'>Stephen Curry</a>."
   ]
  },
  {
   "cell_type": "markdown",
   "metadata": {},
   "source": [
    "\n",
    "<img src=\"https://s3-api.us-geo.objectstorage.softlayer.net/cf-courses-data/CognitiveClass/PY0101EN/projects/EdX/Images/Michael_Jordan.jpg\" alt=\"Trulli\" width=\"100\" height=\"200\">\n",
    "<img src=\"https://s3-api.us-geo.objectstorage.softlayer.net/cf-courses-data/CognitiveClass/PY0101EN/projects/EdX/Images/Kobe_Bryant.jpg\" alt=\"Trulli\" width=\"100\" height=\"75\">\n",
    "<img src=\"https://s3-api.us-geo.objectstorage.softlayer.net/cf-courses-data/CognitiveClass/PY0101EN/projects/EdX/Images/Lebron.jpg\" alt=\"Trulli\" width=\"100\" height=\"200\">\n",
    "<img src=\"https://s3-api.us-geo.objectstorage.softlayer.net/cf-courses-data/CognitiveClass/PY0101EN/projects/EdX/Images/Stephen_Curry_Shooting.jpg\" alt=\"Trulli\" width=\"100\" height=\"75\">\n"
   ]
  },
  {
   "cell_type": "markdown",
   "metadata": {},
   "source": [
    "<center>Figure: following figure from left to right we have <a href='https://en.wikipedia.org/wiki/Michael_Jordan'>Michael Jordan </a>,\n",
    "<a href='https://en.wikipedia.org/wiki/Kobe_Bryant'>Kobe Bryant</a>,\n",
    "<a href='https://en.wikipedia.org/wiki/LeBron_James'>Lebron James</a> and <a href='https://en.wikipedia.org/wiki/Stephen_Curry'>Stephen Curry</a></center> <i>(image source Wikipedia)</i>"
   ]
  },
  {
   "cell_type": "markdown",
   "metadata": {},
   "source": [
    "<b>Wikipedia.org</b> has the statistics of each Basketball Player in different tables; we will use the table <bb>regular season</b>.  The Table for  <a href='https://en.wikipedia.org/wiki/Michael_Jordan'>Michael Jordan </a> is shown here:"
   ]
  },
  {
   "cell_type": "markdown",
   "metadata": {},
   "source": [
    "<table class=\"wikitable sortable\" style=\"font-size:95%; text-align:right;\">\n",
    "<tbody><tr>\n",
    "<th>Year\n",
    "</th>\n",
    "<th>Team\n",
    "</th>\n",
    "<th><abbr title=\"Games played\">GP</abbr>\n",
    "</th>\n",
    "<th><abbr title=\"Games started\">GS</abbr>\n",
    "</th>\n",
    "<th><abbr title=\"Minutes per game\">MPG</abbr>\n",
    "</th>\n",
    "<th><abbr title=\"Field goal percentage\">FG%</abbr>\n",
    "</th>\n",
    "<th><abbr title=\"3-point field-goal percentage\">3P%</abbr>\n",
    "</th>\n",
    "<th><abbr title=\"Free-throw percentage\">FT%</abbr>\n",
    "</th>\n",
    "<th><abbr title=\"Rebounds per game\">RPG</abbr>\n",
    "</th>\n",
    "<th><abbr title=\"Assists per game\">APG</abbr>\n",
    "</th>\n",
    "<th><abbr title=\"Steals per game\">SPG</abbr>\n",
    "</th>\n",
    "<th><abbr title=\"Blocks per game\">BPG</abbr>\n",
    "</th>\n",
    "<th><abbr title=\"Points per game\">PPG</abbr>\n",
    "</th></tr>\n",
    "<tr>\n",
    "<td style=\"text-align:left;\"><a href=\"/wiki/1984%E2%80%9385_NBA_season\" title=\"1984–85 NBA season\">1984–85</a>\n",
    "</td>\n",
    "<td style=\"text-align:left;\"><a href=\"/wiki/1984%E2%80%9385_Chicago_Bulls_season\" title=\"1984–85 Chicago Bulls season\">Chicago</a>\n",
    "</td>\n",
    "<td><b>82</b></td>\n",
    "<td><b>82</b></td>\n",
    "<td>38.3</td>\n",
    "<td>.515</td>\n",
    "<td>.173</td>\n",
    "<td>.845</td>\n",
    "<td>6.5</td>\n",
    "<td>5.9</td>\n",
    "<td>2.4</td>\n",
    "<td>.8</td>\n",
    "<td>28.2\n",
    "</td></tr>\n",
    "<tr>\n",
    "<td style=\"text-align:left;\"><a href=\"/wiki/1985%E2%80%9386_NBA_season\" title=\"1985–86 NBA season\">1985–86</a>\n",
    "</td>\n",
    "<td style=\"text-align:left;\"><a href=\"/wiki/1985%E2%80%9386_Chicago_Bulls_season\" title=\"1985–86 Chicago Bulls season\">Chicago</a>\n",
    "</td>\n",
    "<td>18</td>\n",
    "<td>7</td>\n",
    "<td>25.1</td>\n",
    "<td>.457</td>\n",
    "<td>.167</td>\n",
    "<td>.840</td>\n",
    "<td>3.6</td>\n",
    "<td>2.9</td>\n",
    "<td>2.1</td>\n",
    "<td>1.2</td>\n",
    "<td>22.7\n",
    "</td></tr>\n",
    "<tr>\n",
    "<td style=\"text-align:left;\"><a href=\"/wiki/1986%E2%80%9387_NBA_season\" title=\"1986–87 NBA season\">1986–87</a>\n",
    "</td>\n",
    "<td style=\"text-align:left;\"><a href=\"/wiki/1986%E2%80%9387_Chicago_Bulls_season\" title=\"1986–87 Chicago Bulls season\">Chicago</a>\n",
    "</td>\n",
    "<td><b>82</b></td>\n",
    "<td><b>82</b></td>\n",
    "<td>40.0</td>\n",
    "<td>.482</td>\n",
    "<td>.182</td>\n",
    "<td><b>.857</b></td>\n",
    "<td>5.2</td>\n",
    "<td>4.6</td>\n",
    "<td>2.9</td>\n",
    "<td>1.5</td>\n",
    "<td style=\"background:#cfecec;\"><b>37.1</b>*\n",
    "</td></tr>\n",
    "<tr>\n",
    "<td style=\"text-align:left;\"><a href=\"/wiki/1987%E2%80%9388_NBA_season\" title=\"1987–88 NBA season\">1987–88</a>\n",
    "</td>\n",
    "<td style=\"text-align:left;\"><a href=\"/wiki/1987%E2%80%9388_Chicago_Bulls_season\" title=\"1987–88 Chicago Bulls season\">Chicago</a>\n",
    "</td>\n",
    "<td><b>82</b></td>\n",
    "<td><b>82</b></td>\n",
    "<td bgcolor=\"CFECEC\"><b>40.4</b>*</td>\n",
    "<td>.535</td>\n",
    "<td>.132</td>\n",
    "<td>.841</td>\n",
    "<td>5.5</td>\n",
    "<td>5.9</td>\n",
    "<td bgcolor=\"CFECEC\"><b>3.2</b>*</td>\n",
    "<td><b>1.6</b></td>\n",
    "<td style=\"background:#cfecec;\">35.0*\n",
    "</td></tr>\n",
    "<tr>\n",
    "<td style=\"text-align:left;\"><a href=\"/wiki/1988%E2%80%9389_NBA_season\" title=\"1988–89 NBA season\">1988–89</a>\n",
    "</td>\n",
    "<td style=\"text-align:left;\"><a href=\"/wiki/1988%E2%80%9389_Chicago_Bulls_season\" title=\"1988–89 Chicago Bulls season\">Chicago</a>\n",
    "</td>\n",
    "<td>81</td>\n",
    "<td>81</td>\n",
    "<td bgcolor=\"CFECEC\">40.2*</td>\n",
    "<td>.538</td>\n",
    "<td>.276</td>\n",
    "<td>.850</td>\n",
    "<td><b>8.0</b></td>\n",
    "<td><b>8.0</b></td>\n",
    "<td>2.9</td>\n",
    "<td>.8</td>\n",
    "<td style=\"background:#cfecec;\">32.5*\n",
    "</td></tr>\n",
    "<tr>\n",
    "<td style=\"text-align:left;\"><a href=\"/wiki/1989%E2%80%9390_NBA_season\" title=\"1989–90 NBA season\">1989–90</a>\n",
    "</td>\n",
    "<td style=\"text-align:left;\"><a href=\"/wiki/1989%E2%80%9390_Chicago_Bulls_season\" title=\"1989–90 Chicago Bulls season\">Chicago</a>\n",
    "</td>\n",
    "<td><b>82</b></td>\n",
    "<td><b>82</b></td>\n",
    "<td>39.0</td>\n",
    "<td>.526</td>\n",
    "<td>.376</td>\n",
    "<td>.848</td>\n",
    "<td>6.9</td>\n",
    "<td>6.3</td>\n",
    "<td bgcolor=\"CFECEC\">2.8*</td>\n",
    "<td>.7</td>\n",
    "<td style=\"background:#cfecec;\">33.6*\n",
    "</td></tr>\n",
    "<tr>\n",
    "<td style=\"text-align:left;background:#afe6ba;\"><a href=\"/wiki/1990%E2%80%9391_NBA_season\" title=\"1990–91 NBA season\">1990–91</a>†\n",
    "</td>\n",
    "<td style=\"text-align:left;\"><a href=\"/wiki/1990%E2%80%9391_Chicago_Bulls_season\" title=\"1990–91 Chicago Bulls season\">Chicago</a>\n",
    "</td>\n",
    "<td><b>82</b></td>\n",
    "<td><b>82</b></td>\n",
    "<td>37.0</td>\n",
    "<td><b>.539</b></td>\n",
    "<td>.312</td>\n",
    "<td>.851</td>\n",
    "<td>6.0</td>\n",
    "<td>5.5</td>\n",
    "<td>2.7</td>\n",
    "<td>1.0</td>\n",
    "<td style=\"background:#cfecec;\">31.5*\n",
    "</td></tr>\n",
    "<tr>\n",
    "<td style=\"text-align:left;background:#afe6ba;\"><a href=\"/wiki/1991%E2%80%9392_NBA_season\" title=\"1991–92 NBA season\">1991–92</a>†\n",
    "</td>\n",
    "<td style=\"text-align:left;\"><a href=\"/wiki/1991%E2%80%9392_Chicago_Bulls_season\" title=\"1991–92 Chicago Bulls season\">Chicago</a>\n",
    "</td>\n",
    "<td>80</td>\n",
    "<td>80</td>\n",
    "<td>38.8</td>\n",
    "<td>.519</td>\n",
    "<td>.270</td>\n",
    "<td>.832</td>\n",
    "<td>6.4</td>\n",
    "<td>6.1</td>\n",
    "<td>2.3</td>\n",
    "<td>.9</td>\n",
    "<td style=\"background:#cfecec;\">30.1*\n",
    "</td></tr>\n",
    "<tr>\n",
    "<td style=\"text-align:left;background:#afe6ba;\"><a href=\"/wiki/1992%E2%80%9393_NBA_season\" title=\"1992–93 NBA season\">1992–93</a>†\n",
    "</td>\n",
    "<td style=\"text-align:left;\"><a href=\"/wiki/1992%E2%80%9393_Chicago_Bulls_season\" title=\"1992–93 Chicago Bulls season\">Chicago</a>\n",
    "</td>\n",
    "<td>78</td>\n",
    "<td>78</td>\n",
    "<td>39.3</td>\n",
    "<td>.495</td>\n",
    "<td>.352</td>\n",
    "<td>.837</td>\n",
    "<td>6.7</td>\n",
    "<td>5.5</td>\n",
    "<td bgcolor=\"CFECEC\">2.8*</td>\n",
    "<td>.8</td>\n",
    "<td style=\"background:#cfecec;\">32.6*\n",
    "</td></tr>\n",
    "<tr>\n",
    "<td style=\"text-align:left;\"><a href=\"/wiki/1994%E2%80%9395_NBA_season\" title=\"1994–95 NBA season\">1994–95</a>\n",
    "</td>\n",
    "<td style=\"text-align:left;\"><a href=\"/wiki/1994%E2%80%9395_Chicago_Bulls_season\" title=\"1994–95 Chicago Bulls season\">Chicago</a>\n",
    "</td>\n",
    "<td>17</td>\n",
    "<td>17</td>\n",
    "<td>39.3</td>\n",
    "<td>.411</td>\n",
    "<td><b>.500</b></td>\n",
    "<td>.801</td>\n",
    "<td>6.9</td>\n",
    "<td>5.3</td>\n",
    "<td>1.8</td>\n",
    "<td>.8</td>\n",
    "<td>26.9\n",
    "</td></tr>\n",
    "<tr>\n",
    "<td style=\"text-align:left;background:#afe6ba;\"><a href=\"/wiki/1995%E2%80%9396_NBA_season\" title=\"1995–96 NBA season\">1995–96</a>†\n",
    "</td>\n",
    "<td style=\"text-align:left;\"><a href=\"/wiki/1995%E2%80%9396_Chicago_Bulls_season\" title=\"1995–96 Chicago Bulls season\">Chicago</a>\n",
    "</td>\n",
    "<td><b>82</b></td>\n",
    "<td><b>82</b></td>\n",
    "<td>37.7</td>\n",
    "<td>.495</td>\n",
    "<td>.427</td>\n",
    "<td>.834</td>\n",
    "<td>6.6</td>\n",
    "<td>4.3</td>\n",
    "<td>2.2</td>\n",
    "<td>.5</td>\n",
    "<td style=\"background:#cfecec;\">30.4*\n",
    "</td></tr>\n",
    "<tr>\n",
    "<td style=\"text-align:left;background:#afe6ba;\"><a href=\"/wiki/1996%E2%80%9397_NBA_season\" title=\"1996–97 NBA season\">1996–97</a>†\n",
    "</td>\n",
    "<td style=\"text-align:left;\"><a href=\"/wiki/1996%E2%80%9397_Chicago_Bulls_season\" title=\"1996–97 Chicago Bulls season\">Chicago</a>\n",
    "</td>\n",
    "<td><b>82</b></td>\n",
    "<td><b>82</b></td>\n",
    "<td>37.9</td>\n",
    "<td>.486</td>\n",
    "<td>.374</td>\n",
    "<td>.833</td>\n",
    "<td>5.9</td>\n",
    "<td>4.3</td>\n",
    "<td>1.7</td>\n",
    "<td>.5</td>\n",
    "<td style=\"background:#cfecec;\">29.6*\n",
    "</td></tr>\n",
    "<tr>\n",
    "<td style=\"text-align:left;background:#afe6ba;\"><a href=\"/wiki/1997%E2%80%9398_NBA_season\" title=\"1997–98 NBA season\">1997–98</a>†\n",
    "</td>\n",
    "<td style=\"text-align:left;\"><a href=\"/wiki/1997%E2%80%9398_Chicago_Bulls_season\" title=\"1997–98 Chicago Bulls season\">Chicago</a>\n",
    "</td>\n",
    "<td><b>82</b></td>\n",
    "<td><b>82</b></td>\n",
    "<td>38.8</td>\n",
    "<td>.465</td>\n",
    "<td>.238</td>\n",
    "<td>.784</td>\n",
    "<td>5.8</td>\n",
    "<td>3.5</td>\n",
    "<td>1.7</td>\n",
    "<td>.5</td>\n",
    "<td style=\"background:#cfecec;\">28.7*\n",
    "</td></tr>\n",
    "<tr>\n",
    "<td style=\"text-align:left;\"><a href=\"/wiki/2001%E2%80%9302_NBA_season\" title=\"2001–02 NBA season\">2001–02</a>\n",
    "</td>\n",
    "<td style=\"text-align:left;\"><a href=\"/wiki/2001%E2%80%9302_Washington_Wizards_season\" title=\"2001–02 Washington Wizards season\">Washington</a>\n",
    "</td>\n",
    "<td>60</td>\n",
    "<td>53</td>\n",
    "<td>34.9</td>\n",
    "<td>.416</td>\n",
    "<td>.189</td>\n",
    "<td>.790</td>\n",
    "<td>5.7</td>\n",
    "<td>5.2</td>\n",
    "<td>1.4</td>\n",
    "<td>.4</td>\n",
    "<td>22.9\n",
    "</td></tr>\n",
    "<tr>\n",
    "<td style=\"text-align:left;\"><a href=\"/wiki/2002%E2%80%9303_NBA_season\" title=\"2002–03 NBA season\">2002–03</a>\n",
    "</td>\n",
    "<td style=\"text-align:left;\"><a href=\"/wiki/2002%E2%80%9303_Washington_Wizards_season\" title=\"2002–03 Washington Wizards season\">Washington</a>\n",
    "</td>\n",
    "<td><b>82</b></td>\n",
    "<td>67</td>\n",
    "<td>37.0</td>\n",
    "<td>.445</td>\n",
    "<td>.291</td>\n",
    "<td>.821</td>\n",
    "<td>6.1</td>\n",
    "<td>3.8</td>\n",
    "<td>1.5</td>\n",
    "<td>.5</td>\n",
    "<td>20.0\n",
    "</td></tr>\n",
    "<tr class=\"sortbottom\">\n",
    "<td colspan=\"2\" style=\"text-align:center;\"><b>Career</b>\n",
    "</td>\n",
    "<td>1,072</td>\n",
    "<td>1,039</td>\n",
    "<td>38.3</td>\n",
    "<td>.497</td>\n",
    "<td>.327</td>\n",
    "<td>.835</td>\n",
    "<td>6.2</td>\n",
    "<td>5.3</td>\n",
    "<td>2.3</td>\n",
    "<td>.8</td>\n",
    "<td style=\"background:#E0CEF2; width:3em\">30.1<img alt=\"double-dagger\" data-file-height=\"14\" data-file-width=\"9\" decoding=\"async\" height=\"14\" src=\"//upload.wikimedia.org/wikipedia/commons/f/f9/Double-dagger-14-plain.png\" width=\"9\"/>\n",
    "</td></tr>\n",
    "<tr class=\"sortbottom\">\n",
    "<td colspan=\"2\" style=\"text-align:center;\"><b>All-Star</b>\n",
    "</td>\n",
    "<td>13</td>\n",
    "<td>13</td>\n",
    "<td>29.4</td>\n",
    "<td>.472</td>\n",
    "<td>.273</td>\n",
    "<td>.750</td>\n",
    "<td>4.7</td>\n",
    "<td>4.2</td>\n",
    "<td>2.8</td>\n",
    "<td>.5</td>\n",
    "<td>20.2\n",
    "</td></tr></tbody></table>"
   ]
  },
  {
   "cell_type": "markdown",
   "metadata": {},
   "source": [
    "We will scrape the data for each year for each player convert the data for each player into a Pandas Dataframe, plot the results for Points per game, perform some analysis. Finally, we will store the results in the IBM cloud."
   ]
  },
  {
   "cell_type": "markdown",
   "metadata": {},
   "source": [
    "<h2>Table of Contents</h2>\n",
    "<div class=\"alert alert-block alert-info\" style=\"margin-top: 20px\">\n",
    "    <ul>\n",
    "        <li><a href=\"#Section_1\">Define a Web Scraping Function </a></li>\n",
    "    <li><a href=\"#Section_2\">Web Scraping and Converting to Pandas Dataframe</a> </li>\n",
    "    <li><a href=\"#Section_3\">Plot the Points per game</a></li>\n",
    "    <li><a href=\"#Section_4\">Store the Player Statistics in IBM Object Storage </a></li>\n",
    "    <li><a href=\"#Section_5\">How to submit </a></li>\n",
    "    </ul>\n",
    "<p>\n",
    "    Estimated Time Needed: <strong>180 min</strong></p>\n",
    "</div>\n",
    "\n",
    "<hr>"
   ]
  },
  {
   "cell_type": "markdown",
   "metadata": {},
   "source": [
    "<h2 id=\"Section_1\"> Define a Web Scraping Function  </h2>"
   ]
  },
  {
   "cell_type": "markdown",
   "metadata": {},
   "source": [
    "In this section, we define the function <code>get_basketball_stats</code>. The function will return a dictionary corresponding to the Regular season statistics of each basketball player scraped from m <a href=\"http://en.wikipedia.org\">en.wikipedia.org</a>. \n",
    "The <a href=\"https://en.wikipedia.org/wiki/Parameter_(computer_programming)\"> Formal Parameter </a> or input  <code> link</code> is going to be the URL of the Wikipedia page for each player. This function will return a  Python dictionary. The keys will be the column names, and the values will be a list that contains a different columns; the element of each list will be a separate row for that column.\n",
    "You don't have to know how the function works just the input in the output. "
   ]
  },
  {
   "cell_type": "code",
   "execution_count": 59,
   "metadata": {},
   "outputs": [],
   "source": [
    "import bs4\n",
    "import requests\n",
    "import pandas as pd\n",
    "import numpy as np\n",
    "import boto3"
   ]
  },
  {
   "cell_type": "code",
   "execution_count": 60,
   "metadata": {},
   "outputs": [],
   "source": [
    "def get_basketball_stats(link='https://en.wikipedia.org/wiki/Michael_Jordan'):\n",
    "    # read the webpage \n",
    "    response = requests.get(link)\n",
    "    # create a BeautifulSoup object to parse the HTML  \n",
    "    soup = bs4.BeautifulSoup(response.text, 'html.parser')\n",
    "    # the player stats are defined  with the attribute CSS class set to 'wikitable sortable'; \n",
    "    #therefore we create a tag object \"table\"\n",
    "    table=soup.find(class_='wikitable sortable')\n",
    "\n",
    "    #the headers of the table are the first table row (tr) we create a tag object that has the first row  \n",
    "    headers=table.tr\n",
    "    #the table column names are displayed  as an abbreviation; therefore we find all the abbr tags and returs an Iterator\n",
    "    titles=headers.find_all(\"abbr\")\n",
    "    #we create a dictionary  and pass the table headers as the keys \n",
    "    data = {title['title']:[] for title in titles}\n",
    "   #we will store each column as a list in a dictionary, the header of the column will be the dictionary key \n",
    "\n",
    "    #we iterate over each table row by fining each table tag tr and assign it to the objed\n",
    "    for row in table.find_all('tr')[1:]:\n",
    "    \n",
    "        #we iterate over each cell in the table, as each cell corresponds to a different column we all obtain the correspondin key corresponding the column n \n",
    "        for key,a in zip(data.keys(),row.find_all(\"td\")[2:]):\n",
    "            # we append each elment and strip any extra HTML contnet \n",
    "            data[key].append(''.join(c for c in a.text if (c.isdigit() or c == \".\")))\n",
    "\n",
    "    # we remove extra rows by finding the smallest list     \n",
    "    Min=min([len(x)  for x in data.values()])\n",
    "    #we convert the elements in the key to floats \n",
    "    for key in data.keys():\n",
    "    \n",
    "        data[key]=list(map(lambda x: float(x), data[key][:Min]))\n",
    "       \n",
    "    return data"
   ]
  },
  {
   "cell_type": "markdown",
   "metadata": {},
   "source": [
    "<h2 id=\"Section_2\"> Question 1: Web Scraping the data and Converting to Pandas Dataframe   </h2>"
   ]
  },
  {
   "cell_type": "markdown",
   "metadata": {},
   "source": [
    "For this question, you must use the function <code>get_basketball_stats</code> to extract a Python Dictionary of the player statistics, convert the dictionary to a Python Dataframe.  To get full marks, you must display the first five rows of the dataframe for each player using the method head with the name of each player printed above. As shown in the following figuer **the order of the columns may be different depending on the version of Python**."
   ]
  },
  {
   "cell_type": "markdown",
   "metadata": {},
   "source": [
    " <img src=\"https://s3-api.us-geo.objectstorage.softlayer.net/cf-courses-data/CognitiveClass/PY0101EN/projects/EdX/Images/question_one_answer.jpeg\" alt=\"Trulli\" width=\"1000\" height=\"1000\">"
   ]
  },
  {
   "cell_type": "markdown",
   "metadata": {},
   "source": [
    "You will need the following libraries "
   ]
  },
  {
   "cell_type": "code",
   "execution_count": 61,
   "metadata": {},
   "outputs": [],
   "source": [
    "import pandas as pd\n",
    "import matplotlib.pyplot as plt\n",
    "from IPython.display import display\n"
   ]
  },
  {
   "cell_type": "markdown",
   "metadata": {},
   "source": [
    "The list <code>links</code> contain the link the Wikipedia article for each player. The list <code>names</codes> contains the names of each player."
   ]
  },
  {
   "cell_type": "code",
   "execution_count": 62,
   "metadata": {},
   "outputs": [],
   "source": [
    "links=['https://en.wikipedia.org/wiki/Michael_Jordan'\\\n",
    "       ,'https://en.wikipedia.org/wiki/Kobe_Bryant'\\\n",
    "      ,'https://en.wikipedia.org/wiki/LeBron_James'\\\n",
    "      \n",
    "      ,'https://en.wikipedia.org/wiki/Stephen_Curry']\n",
    "names=['Michael Jordan','Kobe Bryant','Lebron James','Stephen Curry']"
   ]
  },
  {
   "cell_type": "markdown",
   "metadata": {},
   "source": [
    "You can use the function get_basketball_stats to extract the <b>Regular season table </b> and store it to a Python dictionary. For example, you can extract the table for Michael Jordan and convert it to a Python dictionary as follows:"
   ]
  },
  {
   "cell_type": "markdown",
   "metadata": {},
   "source": [
    "#using the link  \n",
    "<code>\n",
    "michael_jordan_dict=get_basketball_stats('https://en.wikipedia.org/wiki/Michael_Jordan')\n",
    "</code>\n",
    "\n",
    "#using the list\n",
    "\n",
    "<code>\n",
    "michael_jordan_dict=get_basketball_stats(links[0])\n",
    "</code>"
   ]
  },
  {
   "cell_type": "markdown",
   "metadata": {},
   "source": [
    "<h5>For each Player create a Python dictionary from the table <b>Regular season table </b>.</h5>"
   ]
  },
  {
   "cell_type": "code",
   "execution_count": 63,
   "metadata": {},
   "outputs": [],
   "source": [
    "michael_jordan_dict=get_basketball_stats(links[0])\n",
    "kobe_bryant_dict=get_basketball_stats(links[1])\n",
    "lebron_james_dict=get_basketball_stats(links[2])\n",
    "stephen_curry_dict=get_basketball_stats(links[3])"
   ]
  },
  {
   "cell_type": "markdown",
   "metadata": {},
   "source": [
    "<h5>For each Player convert the Python Dictionary to a Pandas Dataframe using the constructor <code>pd.DataFrame()</code> </h5>\n",
    "\n"
   ]
  },
  {
   "cell_type": "code",
   "execution_count": 64,
   "metadata": {},
   "outputs": [],
   "source": [
    "\n",
    "\n",
    "df1 = pd.DataFrame.from_dict(michael_jordan_dict)\n",
    "df2 = pd.DataFrame.from_dict(kobe_bryant_dict)\n",
    "df3 = pd.DataFrame.from_dict(lebron_james_dict)\n",
    "df4 = pd.DataFrame.from_dict(stephen_curry_dict)\n",
    "\n"
   ]
  },
  {
   "cell_type": "markdown",
   "metadata": {},
   "source": [
    "<h5>For each player display the first five rows of the Dataframe, print the name of each Player above the Dataframe.</h5>"
   ]
  },
  {
   "cell_type": "markdown",
   "metadata": {},
   "source": [
    "If you perform the process in a loop you will have to use the function <code>display</code> as follows:\n",
    "\n",
    "<code>display(df)</code>\n",
    "\n"
   ]
  },
  {
   "cell_type": "code",
   "execution_count": 65,
   "metadata": {},
   "outputs": [
    {
     "name": "stdout",
     "output_type": "stream",
     "text": [
      "Michael Jordan\n"
     ]
    },
    {
     "data": {
      "text/html": [
       "<div>\n",
       "<style scoped>\n",
       "    .dataframe tbody tr th:only-of-type {\n",
       "        vertical-align: middle;\n",
       "    }\n",
       "\n",
       "    .dataframe tbody tr th {\n",
       "        vertical-align: top;\n",
       "    }\n",
       "\n",
       "    .dataframe thead th {\n",
       "        text-align: right;\n",
       "    }\n",
       "</style>\n",
       "<table border=\"1\" class=\"dataframe\">\n",
       "  <thead>\n",
       "    <tr style=\"text-align: right;\">\n",
       "      <th></th>\n",
       "      <th>Games played</th>\n",
       "      <th>Games started</th>\n",
       "      <th>Minutes per game</th>\n",
       "      <th>Field goal percentage</th>\n",
       "      <th>3-point field-goal percentage</th>\n",
       "      <th>Free-throw percentage</th>\n",
       "      <th>Rebounds per game</th>\n",
       "      <th>Assists per game</th>\n",
       "      <th>Steals per game</th>\n",
       "      <th>Blocks per game</th>\n",
       "      <th>Points per game</th>\n",
       "    </tr>\n",
       "  </thead>\n",
       "  <tbody>\n",
       "    <tr>\n",
       "      <th>0</th>\n",
       "      <td>82.0</td>\n",
       "      <td>82.0</td>\n",
       "      <td>38.3</td>\n",
       "      <td>0.515</td>\n",
       "      <td>0.173</td>\n",
       "      <td>0.845</td>\n",
       "      <td>6.5</td>\n",
       "      <td>5.9</td>\n",
       "      <td>2.4</td>\n",
       "      <td>0.8</td>\n",
       "      <td>28.2</td>\n",
       "    </tr>\n",
       "    <tr>\n",
       "      <th>1</th>\n",
       "      <td>18.0</td>\n",
       "      <td>7.0</td>\n",
       "      <td>25.1</td>\n",
       "      <td>0.457</td>\n",
       "      <td>0.167</td>\n",
       "      <td>0.840</td>\n",
       "      <td>3.6</td>\n",
       "      <td>2.9</td>\n",
       "      <td>2.1</td>\n",
       "      <td>1.2</td>\n",
       "      <td>22.7</td>\n",
       "    </tr>\n",
       "    <tr>\n",
       "      <th>2</th>\n",
       "      <td>82.0</td>\n",
       "      <td>82.0</td>\n",
       "      <td>40.0</td>\n",
       "      <td>0.482</td>\n",
       "      <td>0.182</td>\n",
       "      <td>0.857</td>\n",
       "      <td>5.2</td>\n",
       "      <td>4.6</td>\n",
       "      <td>2.9</td>\n",
       "      <td>1.5</td>\n",
       "      <td>37.1</td>\n",
       "    </tr>\n",
       "    <tr>\n",
       "      <th>3</th>\n",
       "      <td>82.0</td>\n",
       "      <td>82.0</td>\n",
       "      <td>40.4</td>\n",
       "      <td>0.535</td>\n",
       "      <td>0.132</td>\n",
       "      <td>0.841</td>\n",
       "      <td>5.5</td>\n",
       "      <td>5.9</td>\n",
       "      <td>3.2</td>\n",
       "      <td>1.6</td>\n",
       "      <td>35.0</td>\n",
       "    </tr>\n",
       "    <tr>\n",
       "      <th>4</th>\n",
       "      <td>81.0</td>\n",
       "      <td>81.0</td>\n",
       "      <td>40.2</td>\n",
       "      <td>0.538</td>\n",
       "      <td>0.276</td>\n",
       "      <td>0.850</td>\n",
       "      <td>8.0</td>\n",
       "      <td>8.0</td>\n",
       "      <td>2.9</td>\n",
       "      <td>0.8</td>\n",
       "      <td>32.5</td>\n",
       "    </tr>\n",
       "  </tbody>\n",
       "</table>\n",
       "</div>"
      ],
      "text/plain": [
       "   Games played  Games started  Minutes per game  Field goal percentage  \\\n",
       "0          82.0           82.0              38.3                  0.515   \n",
       "1          18.0            7.0              25.1                  0.457   \n",
       "2          82.0           82.0              40.0                  0.482   \n",
       "3          82.0           82.0              40.4                  0.535   \n",
       "4          81.0           81.0              40.2                  0.538   \n",
       "\n",
       "   3-point field-goal percentage  Free-throw percentage  Rebounds per game  \\\n",
       "0                          0.173                  0.845                6.5   \n",
       "1                          0.167                  0.840                3.6   \n",
       "2                          0.182                  0.857                5.2   \n",
       "3                          0.132                  0.841                5.5   \n",
       "4                          0.276                  0.850                8.0   \n",
       "\n",
       "   Assists per game  Steals per game  Blocks per game  Points per game  \n",
       "0               5.9              2.4              0.8             28.2  \n",
       "1               2.9              2.1              1.2             22.7  \n",
       "2               4.6              2.9              1.5             37.1  \n",
       "3               5.9              3.2              1.6             35.0  \n",
       "4               8.0              2.9              0.8             32.5  "
      ]
     },
     "metadata": {},
     "output_type": "display_data"
    },
    {
     "name": "stdout",
     "output_type": "stream",
     "text": [
      "Kobe Bryant\n"
     ]
    },
    {
     "data": {
      "text/html": [
       "<div>\n",
       "<style scoped>\n",
       "    .dataframe tbody tr th:only-of-type {\n",
       "        vertical-align: middle;\n",
       "    }\n",
       "\n",
       "    .dataframe tbody tr th {\n",
       "        vertical-align: top;\n",
       "    }\n",
       "\n",
       "    .dataframe thead th {\n",
       "        text-align: right;\n",
       "    }\n",
       "</style>\n",
       "<table border=\"1\" class=\"dataframe\">\n",
       "  <thead>\n",
       "    <tr style=\"text-align: right;\">\n",
       "      <th></th>\n",
       "      <th>Games played</th>\n",
       "      <th>Games started</th>\n",
       "      <th>Minutes per game</th>\n",
       "      <th>Field goal percentage</th>\n",
       "      <th>3-point field-goal percentage</th>\n",
       "      <th>Free-throw percentage</th>\n",
       "      <th>Rebounds per game</th>\n",
       "      <th>Assists per game</th>\n",
       "      <th>Steals per game</th>\n",
       "      <th>Blocks per game</th>\n",
       "      <th>Points per game</th>\n",
       "    </tr>\n",
       "  </thead>\n",
       "  <tbody>\n",
       "    <tr>\n",
       "      <th>0</th>\n",
       "      <td>71.0</td>\n",
       "      <td>6.0</td>\n",
       "      <td>15.5</td>\n",
       "      <td>0.417</td>\n",
       "      <td>0.375</td>\n",
       "      <td>0.819</td>\n",
       "      <td>1.9</td>\n",
       "      <td>1.3</td>\n",
       "      <td>0.7</td>\n",
       "      <td>0.3</td>\n",
       "      <td>7.6</td>\n",
       "    </tr>\n",
       "    <tr>\n",
       "      <th>1</th>\n",
       "      <td>79.0</td>\n",
       "      <td>1.0</td>\n",
       "      <td>26.0</td>\n",
       "      <td>0.428</td>\n",
       "      <td>0.341</td>\n",
       "      <td>0.794</td>\n",
       "      <td>3.1</td>\n",
       "      <td>2.5</td>\n",
       "      <td>0.9</td>\n",
       "      <td>0.5</td>\n",
       "      <td>15.4</td>\n",
       "    </tr>\n",
       "    <tr>\n",
       "      <th>2</th>\n",
       "      <td>50.0</td>\n",
       "      <td>50.0</td>\n",
       "      <td>37.9</td>\n",
       "      <td>0.465</td>\n",
       "      <td>0.267</td>\n",
       "      <td>0.839</td>\n",
       "      <td>5.3</td>\n",
       "      <td>3.8</td>\n",
       "      <td>1.4</td>\n",
       "      <td>1.0</td>\n",
       "      <td>19.9</td>\n",
       "    </tr>\n",
       "    <tr>\n",
       "      <th>3</th>\n",
       "      <td>66.0</td>\n",
       "      <td>62.0</td>\n",
       "      <td>38.2</td>\n",
       "      <td>0.468</td>\n",
       "      <td>0.319</td>\n",
       "      <td>0.821</td>\n",
       "      <td>6.3</td>\n",
       "      <td>4.9</td>\n",
       "      <td>1.6</td>\n",
       "      <td>0.9</td>\n",
       "      <td>22.5</td>\n",
       "    </tr>\n",
       "    <tr>\n",
       "      <th>4</th>\n",
       "      <td>68.0</td>\n",
       "      <td>68.0</td>\n",
       "      <td>40.9</td>\n",
       "      <td>0.464</td>\n",
       "      <td>0.305</td>\n",
       "      <td>0.853</td>\n",
       "      <td>5.9</td>\n",
       "      <td>5.0</td>\n",
       "      <td>1.7</td>\n",
       "      <td>0.6</td>\n",
       "      <td>28.5</td>\n",
       "    </tr>\n",
       "  </tbody>\n",
       "</table>\n",
       "</div>"
      ],
      "text/plain": [
       "   Games played  Games started  Minutes per game  Field goal percentage  \\\n",
       "0          71.0            6.0              15.5                  0.417   \n",
       "1          79.0            1.0              26.0                  0.428   \n",
       "2          50.0           50.0              37.9                  0.465   \n",
       "3          66.0           62.0              38.2                  0.468   \n",
       "4          68.0           68.0              40.9                  0.464   \n",
       "\n",
       "   3-point field-goal percentage  Free-throw percentage  Rebounds per game  \\\n",
       "0                          0.375                  0.819                1.9   \n",
       "1                          0.341                  0.794                3.1   \n",
       "2                          0.267                  0.839                5.3   \n",
       "3                          0.319                  0.821                6.3   \n",
       "4                          0.305                  0.853                5.9   \n",
       "\n",
       "   Assists per game  Steals per game  Blocks per game  Points per game  \n",
       "0               1.3              0.7              0.3              7.6  \n",
       "1               2.5              0.9              0.5             15.4  \n",
       "2               3.8              1.4              1.0             19.9  \n",
       "3               4.9              1.6              0.9             22.5  \n",
       "4               5.0              1.7              0.6             28.5  "
      ]
     },
     "metadata": {},
     "output_type": "display_data"
    },
    {
     "name": "stdout",
     "output_type": "stream",
     "text": [
      "Lebron James\n"
     ]
    },
    {
     "data": {
      "text/html": [
       "<div>\n",
       "<style scoped>\n",
       "    .dataframe tbody tr th:only-of-type {\n",
       "        vertical-align: middle;\n",
       "    }\n",
       "\n",
       "    .dataframe tbody tr th {\n",
       "        vertical-align: top;\n",
       "    }\n",
       "\n",
       "    .dataframe thead th {\n",
       "        text-align: right;\n",
       "    }\n",
       "</style>\n",
       "<table border=\"1\" class=\"dataframe\">\n",
       "  <thead>\n",
       "    <tr style=\"text-align: right;\">\n",
       "      <th></th>\n",
       "      <th>Games played</th>\n",
       "      <th>Games started</th>\n",
       "      <th>Minutes per game</th>\n",
       "      <th>Field goal percentage</th>\n",
       "      <th>3-point field-goal percentage</th>\n",
       "      <th>Free-throw percentage</th>\n",
       "      <th>Rebounds per game</th>\n",
       "      <th>Assists per game</th>\n",
       "      <th>Steals per game</th>\n",
       "      <th>Blocks per game</th>\n",
       "      <th>Points per game</th>\n",
       "    </tr>\n",
       "  </thead>\n",
       "  <tbody>\n",
       "    <tr>\n",
       "      <th>0</th>\n",
       "      <td>79.0</td>\n",
       "      <td>79.0</td>\n",
       "      <td>39.5</td>\n",
       "      <td>0.417</td>\n",
       "      <td>0.290</td>\n",
       "      <td>0.754</td>\n",
       "      <td>5.5</td>\n",
       "      <td>5.9</td>\n",
       "      <td>1.6</td>\n",
       "      <td>0.7</td>\n",
       "      <td>20.9</td>\n",
       "    </tr>\n",
       "    <tr>\n",
       "      <th>1</th>\n",
       "      <td>80.0</td>\n",
       "      <td>80.0</td>\n",
       "      <td>42.4</td>\n",
       "      <td>0.472</td>\n",
       "      <td>0.351</td>\n",
       "      <td>0.750</td>\n",
       "      <td>7.4</td>\n",
       "      <td>7.2</td>\n",
       "      <td>2.2</td>\n",
       "      <td>0.7</td>\n",
       "      <td>27.2</td>\n",
       "    </tr>\n",
       "    <tr>\n",
       "      <th>2</th>\n",
       "      <td>79.0</td>\n",
       "      <td>79.0</td>\n",
       "      <td>42.5</td>\n",
       "      <td>0.480</td>\n",
       "      <td>0.335</td>\n",
       "      <td>0.738</td>\n",
       "      <td>7.0</td>\n",
       "      <td>6.6</td>\n",
       "      <td>1.6</td>\n",
       "      <td>0.8</td>\n",
       "      <td>31.4</td>\n",
       "    </tr>\n",
       "    <tr>\n",
       "      <th>3</th>\n",
       "      <td>78.0</td>\n",
       "      <td>78.0</td>\n",
       "      <td>40.9</td>\n",
       "      <td>0.476</td>\n",
       "      <td>0.319</td>\n",
       "      <td>0.698</td>\n",
       "      <td>6.7</td>\n",
       "      <td>6.0</td>\n",
       "      <td>1.6</td>\n",
       "      <td>0.7</td>\n",
       "      <td>27.3</td>\n",
       "    </tr>\n",
       "    <tr>\n",
       "      <th>4</th>\n",
       "      <td>75.0</td>\n",
       "      <td>74.0</td>\n",
       "      <td>40.4</td>\n",
       "      <td>0.484</td>\n",
       "      <td>0.315</td>\n",
       "      <td>0.712</td>\n",
       "      <td>7.9</td>\n",
       "      <td>7.2</td>\n",
       "      <td>1.8</td>\n",
       "      <td>1.1</td>\n",
       "      <td>30.0</td>\n",
       "    </tr>\n",
       "  </tbody>\n",
       "</table>\n",
       "</div>"
      ],
      "text/plain": [
       "   Games played  Games started  Minutes per game  Field goal percentage  \\\n",
       "0          79.0           79.0              39.5                  0.417   \n",
       "1          80.0           80.0              42.4                  0.472   \n",
       "2          79.0           79.0              42.5                  0.480   \n",
       "3          78.0           78.0              40.9                  0.476   \n",
       "4          75.0           74.0              40.4                  0.484   \n",
       "\n",
       "   3-point field-goal percentage  Free-throw percentage  Rebounds per game  \\\n",
       "0                          0.290                  0.754                5.5   \n",
       "1                          0.351                  0.750                7.4   \n",
       "2                          0.335                  0.738                7.0   \n",
       "3                          0.319                  0.698                6.7   \n",
       "4                          0.315                  0.712                7.9   \n",
       "\n",
       "   Assists per game  Steals per game  Blocks per game  Points per game  \n",
       "0               5.9              1.6              0.7             20.9  \n",
       "1               7.2              2.2              0.7             27.2  \n",
       "2               6.6              1.6              0.8             31.4  \n",
       "3               6.0              1.6              0.7             27.3  \n",
       "4               7.2              1.8              1.1             30.0  "
      ]
     },
     "metadata": {},
     "output_type": "display_data"
    },
    {
     "name": "stdout",
     "output_type": "stream",
     "text": [
      "Stephen Curry\n"
     ]
    },
    {
     "data": {
      "text/html": [
       "<div>\n",
       "<style scoped>\n",
       "    .dataframe tbody tr th:only-of-type {\n",
       "        vertical-align: middle;\n",
       "    }\n",
       "\n",
       "    .dataframe tbody tr th {\n",
       "        vertical-align: top;\n",
       "    }\n",
       "\n",
       "    .dataframe thead th {\n",
       "        text-align: right;\n",
       "    }\n",
       "</style>\n",
       "<table border=\"1\" class=\"dataframe\">\n",
       "  <thead>\n",
       "    <tr style=\"text-align: right;\">\n",
       "      <th></th>\n",
       "      <th>Games played</th>\n",
       "      <th>Games started</th>\n",
       "      <th>Minutes per game</th>\n",
       "      <th>Field goal percentage</th>\n",
       "      <th>3-point field-goal percentage</th>\n",
       "      <th>Free-throw percentage</th>\n",
       "      <th>Rebounds per game</th>\n",
       "      <th>Assists per game</th>\n",
       "      <th>Steals per game</th>\n",
       "      <th>Blocks per game</th>\n",
       "      <th>Points per game</th>\n",
       "    </tr>\n",
       "  </thead>\n",
       "  <tbody>\n",
       "    <tr>\n",
       "      <th>0</th>\n",
       "      <td>80.0</td>\n",
       "      <td>77.0</td>\n",
       "      <td>36.2</td>\n",
       "      <td>0.462</td>\n",
       "      <td>0.437</td>\n",
       "      <td>0.885</td>\n",
       "      <td>4.5</td>\n",
       "      <td>5.9</td>\n",
       "      <td>1.9</td>\n",
       "      <td>0.2</td>\n",
       "      <td>17.5</td>\n",
       "    </tr>\n",
       "    <tr>\n",
       "      <th>1</th>\n",
       "      <td>74.0</td>\n",
       "      <td>74.0</td>\n",
       "      <td>33.6</td>\n",
       "      <td>0.480</td>\n",
       "      <td>0.442</td>\n",
       "      <td>0.934</td>\n",
       "      <td>3.9</td>\n",
       "      <td>5.8</td>\n",
       "      <td>1.5</td>\n",
       "      <td>0.3</td>\n",
       "      <td>18.6</td>\n",
       "    </tr>\n",
       "    <tr>\n",
       "      <th>2</th>\n",
       "      <td>26.0</td>\n",
       "      <td>23.0</td>\n",
       "      <td>28.2</td>\n",
       "      <td>0.490</td>\n",
       "      <td>0.455</td>\n",
       "      <td>0.809</td>\n",
       "      <td>3.4</td>\n",
       "      <td>5.3</td>\n",
       "      <td>1.5</td>\n",
       "      <td>0.3</td>\n",
       "      <td>14.7</td>\n",
       "    </tr>\n",
       "    <tr>\n",
       "      <th>3</th>\n",
       "      <td>78.0</td>\n",
       "      <td>78.0</td>\n",
       "      <td>38.2</td>\n",
       "      <td>0.451</td>\n",
       "      <td>0.453</td>\n",
       "      <td>0.900</td>\n",
       "      <td>4.0</td>\n",
       "      <td>6.9</td>\n",
       "      <td>1.6</td>\n",
       "      <td>0.2</td>\n",
       "      <td>22.9</td>\n",
       "    </tr>\n",
       "    <tr>\n",
       "      <th>4</th>\n",
       "      <td>78.0</td>\n",
       "      <td>78.0</td>\n",
       "      <td>36.5</td>\n",
       "      <td>0.471</td>\n",
       "      <td>0.424</td>\n",
       "      <td>0.885</td>\n",
       "      <td>4.3</td>\n",
       "      <td>8.5</td>\n",
       "      <td>1.6</td>\n",
       "      <td>0.2</td>\n",
       "      <td>24.0</td>\n",
       "    </tr>\n",
       "  </tbody>\n",
       "</table>\n",
       "</div>"
      ],
      "text/plain": [
       "   Games played  Games started  Minutes per game  Field goal percentage  \\\n",
       "0          80.0           77.0              36.2                  0.462   \n",
       "1          74.0           74.0              33.6                  0.480   \n",
       "2          26.0           23.0              28.2                  0.490   \n",
       "3          78.0           78.0              38.2                  0.451   \n",
       "4          78.0           78.0              36.5                  0.471   \n",
       "\n",
       "   3-point field-goal percentage  Free-throw percentage  Rebounds per game  \\\n",
       "0                          0.437                  0.885                4.5   \n",
       "1                          0.442                  0.934                3.9   \n",
       "2                          0.455                  0.809                3.4   \n",
       "3                          0.453                  0.900                4.0   \n",
       "4                          0.424                  0.885                4.3   \n",
       "\n",
       "   Assists per game  Steals per game  Blocks per game  Points per game  \n",
       "0               5.9              1.9              0.2             17.5  \n",
       "1               5.8              1.5              0.3             18.6  \n",
       "2               5.3              1.5              0.3             14.7  \n",
       "3               6.9              1.6              0.2             22.9  \n",
       "4               8.5              1.6              0.2             24.0  "
      ]
     },
     "metadata": {},
     "output_type": "display_data"
    }
   ],
   "source": [
    "for name in names:\n",
    "    print(name)\n",
    "    display(pd.DataFrame(get_basketball_stats(link = 'https://en.wikipedia.org/wiki/' + name.replace(\" \",\"_\"))).head())"
   ]
  },
  {
   "cell_type": "markdown",
   "metadata": {},
   "source": [
    "<h2 id=\"Section_3\">  Question 2: plot the Points per game for a player using the function plt.plot().</h2>"
   ]
  },
  {
   "cell_type": "markdown",
   "metadata": {},
   "source": [
    "Import the plotting  library "
   ]
  },
  {
   "cell_type": "code",
   "execution_count": 66,
   "metadata": {},
   "outputs": [],
   "source": [
    "import matplotlib.pyplot as plt"
   ]
  },
  {
   "cell_type": "markdown",
   "metadata": {},
   "source": [
    "Using the function <code>plt.plot()</code> plot the Points per game, for one player Just a note you can plot a dataframe column like a numpy array. You can also plot them for each player. Find out how to add a xlabel 'years', a ylabel 'Points per game' and a legend."
   ]
  },
  {
   "cell_type": "code",
   "execution_count": 67,
   "metadata": {},
   "outputs": [
    {
     "name": "stdout",
     "output_type": "stream",
     "text": [
      "Michael Jordan\n"
     ]
    },
    {
     "data": {
      "image/png": "[encoded data removed]",
      "text/plain": [
       "<Figure size 432x288 with 1 Axes>"
      ]
     },
     "metadata": {
      "needs_background": "light"
     },
     "output_type": "display_data"
    },
    {
     "name": "stdout",
     "output_type": "stream",
     "text": [
      "Kobe Bryant\n"
     ]
    },
    {
     "data": {
      "image/png": "[encoded data removed]",
      "text/plain": [
       "<Figure size 432x288 with 1 Axes>"
      ]
     },
     "metadata": {
      "needs_background": "light"
     },
     "output_type": "display_data"
    },
    {
     "name": "stdout",
     "output_type": "stream",
     "text": [
      "Lebron James\n"
     ]
    },
    {
     "data": {
      "image/png": "[encoded data removed]",
      "text/plain": [
       "<Figure size 432x288 with 1 Axes>"
      ]
     },
     "metadata": {
      "needs_background": "light"
     },
     "output_type": "display_data"
    },
    {
     "name": "stdout",
     "output_type": "stream",
     "text": [
      "Stephen Curry\n"
     ]
    },
    {
     "data": {
      "image/png": "[encoded data removed]",
      "text/plain": [
       "<Figure size 432x288 with 1 Axes>"
      ]
     },
     "metadata": {
      "needs_background": "light"
     },
     "output_type": "display_data"
    }
   ],
   "source": [
    "\n",
    "\n",
    "\n",
    "# plt.plot(df1)\n",
    "\n",
    "# plt.plot(data_frame[['Points per game']],label=names[0])\n",
    "# plt.legend()\n",
    "# plt.xlabel('years')\n",
    "# plt.ylabel('Points per game')\n",
    "\n",
    "\n",
    "for name in names:\n",
    "    print(name)\n",
    "    data_frame = pd.DataFrame(get_basketball_stats(link = 'https://en.wikipedia.org/wiki/' + name.replace(\" \",\"_\")))\n",
    "    #display(data_frame.head())\n",
    "    plt.plot(data_frame[['Points per game']],label=name)\n",
    "    plt.legend()\n",
    "    plt.xlabel('years')\n",
    "    plt.ylabel('Points per game')\n",
    "    plt.show()\n",
    "\n"
   ]
  },
  {
   "cell_type": "markdown",
   "metadata": {},
   "source": [
    "<h2 id=\"Section_3\"> Question 3: Store the Player Statistics in Object Storage (optional). </h2>"
   ]
  },
  {
   "cell_type": "markdown",
   "metadata": {},
   "source": [
    "Save one player's dataframe   as a csv file using the method <code>dataframe.to_csv(csv_name)</code>. The string that contains the name of the csv file should be assigned the  <code>csv_name</code>"
   ]
  },
  {
   "cell_type": "code",
   "execution_count": 68,
   "metadata": {},
   "outputs": [],
   "source": [
    "csv_name = 'MJ1.csv'\n",
    "df1.to_csv(csv_name)"
   ]
  },
  {
   "cell_type": "markdown",
   "metadata": {},
   "source": [
    "From the tutorial <i>PROVISIONING AN OBJECT STORAGE INSTANCE ON IBM CLOUD</i> View credentials to obtain the JSON object containing the credentials you created. You’ll want to store everything you see in a credentials variable like the one below (obviously, replace the placeholder values with your own). Take special note of your access_key_id and secret_access_key. <b>Do not delete   <code># @hidden_cell </code> as this will not allow people to see your credentials when you share your notebook. </b>"
   ]
  },
  {
   "cell_type": "markdown",
   "metadata": {},
   "source": [
    "<code>\n",
    "credentials = {<br>\n",
    " &nbsp; \"apikey\": \"your-api-key\",<br>\n",
    " &nbsp; \"cos_hmac_keys\": {<br>\n",
    " &nbsp;  \"access_key_id\": \"your-access-key-here\", <br>\n",
    " &nbsp;   \"secret_access_key\": \"your-secret-access-key-here\"<br>\n",
    " &nbsp; },<br>\n",
    "</code>\n",
    "<code>\n",
    "   &nbsp;\"endpoints\": \"your-endpoints\",<br>\n",
    " &nbsp; \"iam_apikey_description\": \"your-iam_apikey_description\",<br>\n",
    " &nbsp; \"iam_apikey_name\": \"your-iam_apikey_name\",<br>\n",
    " &nbsp; \"iam_role_crn\": \"your-iam_apikey_name\",<br>\n",
    " &nbsp;  \"iam_serviceid_crn\": \"your-iam_serviceid_crn\",<br>\n",
    " &nbsp;\"resource_instance_id\": \"your-resource_instance_id\"<br>\n",
    "}\n",
    "</code>"
   ]
  },
  {
   "cell_type": "code",
   "execution_count": 69,
   "metadata": {},
   "outputs": [],
   "source": [
    " # @hidden_cell\n",
    "\n",
    "\n",
    "\n",
    "auth_endpoint = 'https://iam.bluemix.net/oidc/token'\n",
    "service_endpoint = 'https://s3-api.us-geo.objectstorage.softlayer.net'"
   ]
  },
  {
   "cell_type": "markdown",
   "metadata": {},
   "source": [
    "From the tutorial <i> PROVISIONING AN OBJECT STORAGE INSTANCE ON IBM CLOUD </i> assign the name of your bucket to the variable  <code>bucket_name </code> "
   ]
  },
  {
   "cell_type": "code",
   "execution_count": 70,
   "metadata": {},
   "outputs": [],
   "source": [
    "bucket_name=\"python-py0101en-fg\""
   ]
  },
  {
   "cell_type": "markdown",
   "metadata": {},
   "source": [
    "We can access IBM Cloud Object Storage with Python is to use the <code>ibm_boto3</code> library, which we’ll import below."
   ]
  },
  {
   "cell_type": "code",
   "execution_count": 74,
   "metadata": {},
   "outputs": [],
   "source": [
    "\n",
    "import ibm_boto3\n",
    "from ibm_botocore.client import Config\n",
    "\n",
    "auth_endpoint = 'https://iam.bluemix.net/oidc/token'\n",
    "service_endpoint = 'https://s3-api.us-geo.objectstorage.softlayer.net'"
   ]
  },
  {
   "cell_type": "markdown",
   "metadata": {},
   "source": [
    "The primary way to interact with IBM Cloud Object Storage through <code>ibm_boto3</code> is by using an <code>ibm_boto3.resource</code> object. This resource-based interface abstracts away the low-level REST interface between you and your Object Storage instance. Run the cell below to create a resource Python object using the IBM Cloud Object Storage credentials you filled in above.\n",
    "\n"
   ]
  },
  {
   "cell_type": "code",
   "execution_count": 73,
   "metadata": {},
   "outputs": [
    {
     "ename": "NameError",
     "evalue": "name 'credentials' is not defined",
     "output_type": "error",
     "traceback": [
      "\u001b[0;31m---------------------------------------------------------------------------\u001b[0m",
      "\u001b[0;31mNameError\u001b[0m                                 Traceback (most recent call last)",
      "\u001b[0;32m<ipython-input-73-e26f44591d0d>\u001b[0m in \u001b[0;36m<module>\u001b[0;34m\u001b[0m\n\u001b[1;32m      1\u001b[0m resource = ibm_boto3.resource('s3',\n\u001b[0;32m----> 2\u001b[0;31m                       \u001b[0mibm_api_key_id\u001b[0m\u001b[0;34m=\u001b[0m\u001b[0mcredentials\u001b[0m\u001b[0;34m[\u001b[0m\u001b[0;34m'apikey'\u001b[0m\u001b[0;34m]\u001b[0m\u001b[0;34m,\u001b[0m\u001b[0;34m\u001b[0m\u001b[0;34m\u001b[0m\u001b[0m\n\u001b[0m\u001b[1;32m      3\u001b[0m                       \u001b[0mibm_service_instance_id\u001b[0m\u001b[0;34m=\u001b[0m\u001b[0mcredentials\u001b[0m\u001b[0;34m[\u001b[0m\u001b[0;34m'resource_instance_id'\u001b[0m\u001b[0;34m]\u001b[0m\u001b[0;34m,\u001b[0m\u001b[0;34m\u001b[0m\u001b[0;34m\u001b[0m\u001b[0m\n\u001b[1;32m      4\u001b[0m                       \u001b[0mibm_auth_endpoint\u001b[0m\u001b[0;34m=\u001b[0m\u001b[0mauth_endpoint\u001b[0m\u001b[0;34m,\u001b[0m\u001b[0;34m\u001b[0m\u001b[0;34m\u001b[0m\u001b[0m\n\u001b[1;32m      5\u001b[0m                       \u001b[0mconfig\u001b[0m\u001b[0;34m=\u001b[0m\u001b[0mConfig\u001b[0m\u001b[0;34m(\u001b[0m\u001b[0msignature_version\u001b[0m\u001b[0;34m=\u001b[0m\u001b[0;34m'oauth'\u001b[0m\u001b[0;34m)\u001b[0m\u001b[0;34m,\u001b[0m\u001b[0;34m\u001b[0m\u001b[0;34m\u001b[0m\u001b[0m\n",
      "\u001b[0;31mNameError\u001b[0m: name 'credentials' is not defined"
     ]
    }
   ],
   "source": [
    "resource = ibm_boto3.resource('s3',\n",
    "                      ibm_api_key_id=credentials['apikey'],\n",
    "                      ibm_service_instance_id=credentials['resource_instance_id'],\n",
    "                      ibm_auth_endpoint=auth_endpoint,\n",
    "                      config=Config(signature_version='oauth'),\n",
    "                      endpoint_url=service_endpoint)"
   ]
  },
  {
   "cell_type": "markdown",
   "metadata": {},
   "source": [
    "We are going to use  <code>open</code> to create a file object. To get the path of the file, you are going to concentrate the name of the file stored in the variable  csv_name, and the directory stored in the variable directory using the <code>+</code> operator and assign it to the variable \n",
    "<code>csv_path</code>. We will use the function <code>getcwd()</code> to find current working directory ."
   ]
  },
  {
   "cell_type": "code",
   "execution_count": 48,
   "metadata": {},
   "outputs": [],
   "source": [
    "import os\n",
    "\n",
    "directory=os.getcwd()\n",
    "csv_path=directory+\"/\"+csv_name\n"
   ]
  },
  {
   "cell_type": "markdown",
   "metadata": {},
   "source": [
    "Now you must read the csv file, use the function <code>f=open(file, mode)</code> to create a file object and assign it to the variable <code>f</code>. The  parameter <code> file<code> should be the variable <code>csv_path </code> , the mode should be <code>\"r\"</code>  for read. "
   ]
  },
  {
   "cell_type": "code",
   "execution_count": 49,
   "metadata": {},
   "outputs": [],
   "source": [
    "f=open(csv_path,\"r\")\n"
   ]
  },
  {
   "cell_type": "markdown",
   "metadata": {},
   "source": [
    "To load your dataset into the bucket we will use the method <code>put_object</code>, you must set the parameter name to the name of the bucket, the parameter <code>Key</code> should be the name of the csv file and the value for the parameter Body  should be set to <code>f.read()</code>."
   ]
  },
  {
   "cell_type": "code",
   "execution_count": 50,
   "metadata": {},
   "outputs": [
    {
     "ename": "NameError",
     "evalue": "name 'resource' is not defined",
     "output_type": "error",
     "traceback": [
      "\u001b[0;31m---------------------------------------------------------------------------\u001b[0m",
      "\u001b[0;31mNameError\u001b[0m                                 Traceback (most recent call last)",
      "\u001b[0;32m<ipython-input-50-fd1f88ec7485>\u001b[0m in \u001b[0;36m<module>\u001b[0;34m\u001b[0m\n\u001b[0;32m----> 1\u001b[0;31m \u001b[0mresource\u001b[0m\u001b[0;34m.\u001b[0m\u001b[0mBucket\u001b[0m\u001b[0;34m(\u001b[0m\u001b[0mname\u001b[0m\u001b[0;34m=\u001b[0m\u001b[0;34m\"python-py0101en-fg\"\u001b[0m\u001b[0;34m)\u001b[0m\u001b[0;34m.\u001b[0m\u001b[0mput_object\u001b[0m\u001b[0;34m(\u001b[0m\u001b[0mKey\u001b[0m\u001b[0;34m=\u001b[0m\u001b[0;34m'Michael_Jordan.csv'\u001b[0m\u001b[0;34m,\u001b[0m \u001b[0mBody\u001b[0m\u001b[0;34m=\u001b[0m\u001b[0mf\u001b[0m\u001b[0;34m.\u001b[0m\u001b[0mread\u001b[0m\u001b[0;34m(\u001b[0m\u001b[0;34m)\u001b[0m\u001b[0;34m)\u001b[0m\u001b[0;34m\u001b[0m\u001b[0;34m\u001b[0m\u001b[0m\n\u001b[0m",
      "\u001b[0;31mNameError\u001b[0m: name 'resource' is not defined"
     ]
    }
   ],
   "source": [
    "resource.Bucket(name=\"python-py0101en-fg\").put_object(Key='Michael_Jordan.csv', Body=f.read())"
   ]
  },
  {
   "cell_type": "markdown",
   "metadata": {},
   "source": [
    "<h2 id=\"Section_4\"> Question 4: Create URL to Share .csv  (optional)</h2>"
   ]
  },
  {
   "cell_type": "code",
   "execution_count": 53,
   "metadata": {},
   "outputs": [],
   "source": [
    "import boto3"
   ]
  },
  {
   "cell_type": "markdown",
   "metadata": {},
   "source": [
    "In this section, you will use a <code>client</code> object, you will use this  to create a <code> url </code> to share the file you created."
   ]
  },
  {
   "cell_type": "markdown",
   "metadata": {},
   "source": [
    "This line of code will create a client object using the boto3 library using your credentials."
   ]
  },
  {
   "cell_type": "code",
   "execution_count": null,
   "metadata": {},
   "outputs": [],
   "source": []
  },
  {
   "cell_type": "code",
   "execution_count": 76,
   "metadata": {},
   "outputs": [
    {
     "ename": "NameError",
     "evalue": "name 'credentials' is not defined",
     "output_type": "error",
     "traceback": [
      "\u001b[0;31m---------------------------------------------------------------------------\u001b[0m",
      "\u001b[0;31mNameError\u001b[0m                                 Traceback (most recent call last)",
      "\u001b[0;32m<ipython-input-76-e3175807cac1>\u001b[0m in \u001b[0;36m<module>\u001b[0;34m\u001b[0m\n\u001b[1;32m      1\u001b[0m client = boto3.client(\n\u001b[1;32m      2\u001b[0m     \u001b[0;34m's3'\u001b[0m\u001b[0;34m,\u001b[0m\u001b[0;34m\u001b[0m\u001b[0;34m\u001b[0m\u001b[0m\n\u001b[0;32m----> 3\u001b[0;31m     \u001b[0maws_access_key_id\u001b[0m \u001b[0;34m=\u001b[0m \u001b[0mcredentials\u001b[0m\u001b[0;34m[\u001b[0m\u001b[0;34m\"cos_hmac_keys\"\u001b[0m\u001b[0;34m]\u001b[0m\u001b[0;34m[\u001b[0m\u001b[0;34m'access_key_id'\u001b[0m\u001b[0;34m]\u001b[0m\u001b[0;34m,\u001b[0m\u001b[0;34m\u001b[0m\u001b[0;34m\u001b[0m\u001b[0m\n\u001b[0m\u001b[1;32m      4\u001b[0m         \u001b[0maws_secret_access_key\u001b[0m \u001b[0;34m=\u001b[0m \u001b[0mcredentials\u001b[0m\u001b[0;34m[\u001b[0m\u001b[0;34m\"cos_hmac_keys\"\u001b[0m\u001b[0;34m]\u001b[0m\u001b[0;34m[\u001b[0m\u001b[0;34m\"secret_access_key\"\u001b[0m\u001b[0;34m]\u001b[0m\u001b[0;34m,\u001b[0m\u001b[0;34m\u001b[0m\u001b[0;34m\u001b[0m\u001b[0m\n\u001b[1;32m      5\u001b[0m         \u001b[0mendpoint_url\u001b[0m\u001b[0;34m=\u001b[0m\u001b[0mservice_endpoint\u001b[0m\u001b[0;34m,\u001b[0m\u001b[0;34m\u001b[0m\u001b[0;34m\u001b[0m\u001b[0m\n",
      "\u001b[0;31mNameError\u001b[0m: name 'credentials' is not defined"
     ]
    }
   ],
   "source": [
    "client = boto3.client(\n",
    "    's3',\n",
    "    aws_access_key_id = credentials[\"cos_hmac_keys\"]['access_key_id'],\n",
    "        aws_secret_access_key = credentials[\"cos_hmac_keys\"][\"secret_access_key\"],\n",
    "        endpoint_url=service_endpoint,\n",
    "\n",
    ")"
   ]
  },
  {
   "cell_type": "markdown",
   "metadata": {},
   "source": [
    "This line of code will create a client object using the boto3 library."
   ]
  },
  {
   "cell_type": "markdown",
   "metadata": {},
   "source": [
    "In the dictionary  <code> Parms</code> provide the bucket name  as the value for the key  <i>'Bucket'</i>. Also for the value of the key <i>'Key' </i> add the name of the <code>csv </code> file, both values should be strings."
   ]
  },
  {
   "cell_type": "code",
   "execution_count": 57,
   "metadata": {},
   "outputs": [],
   "source": [
    "Params={'Bucket':'python-py0101en-fg' ,'Key':'Michael_Jordan.csv' }"
   ]
  },
  {
   "cell_type": "markdown",
   "metadata": {},
   "source": [
    "execute the following lines of code to generate the URL, you will have to submit it so take note."
   ]
  },
  {
   "cell_type": "code",
   "execution_count": 58,
   "metadata": {},
   "outputs": [
    {
     "ename": "NameError",
     "evalue": "name 'client' is not defined",
     "output_type": "error",
     "traceback": [
      "\u001b[0;31m---------------------------------------------------------------------------\u001b[0m",
      "\u001b[0;31mNameError\u001b[0m                                 Traceback (most recent call last)",
      "\u001b[0;32m<ipython-input-58-207b9a7d7570>\u001b[0m in \u001b[0;36m<module>\u001b[0;34m\u001b[0m\n\u001b[1;32m      2\u001b[0m \u001b[0mtime\u001b[0m\u001b[0;34m=\u001b[0m\u001b[0;36m7\u001b[0m\u001b[0;34m*\u001b[0m\u001b[0;36m24\u001b[0m\u001b[0;34m*\u001b[0m\u001b[0;36m60\u001b[0m\u001b[0;34m**\u001b[0m\u001b[0;36m2\u001b[0m\u001b[0;34m+\u001b[0m\u001b[0;36m10\u001b[0m\u001b[0;34m\u001b[0m\u001b[0;34m\u001b[0m\u001b[0m\n\u001b[1;32m      3\u001b[0m \u001b[0;34m\u001b[0m\u001b[0m\n\u001b[0;32m----> 4\u001b[0;31m \u001b[0murl\u001b[0m\u001b[0;34m=\u001b[0m\u001b[0mclient\u001b[0m\u001b[0;34m.\u001b[0m\u001b[0mgenerate_presigned_url\u001b[0m\u001b[0;34m(\u001b[0m\u001b[0;34m'get_object'\u001b[0m\u001b[0;34m,\u001b[0m\u001b[0mParams\u001b[0m\u001b[0;34m=\u001b[0m\u001b[0mParams\u001b[0m\u001b[0;34m,\u001b[0m\u001b[0mExpiresIn\u001b[0m\u001b[0;34m=\u001b[0m\u001b[0mtime\u001b[0m\u001b[0;34m)\u001b[0m\u001b[0;34m\u001b[0m\u001b[0;34m\u001b[0m\u001b[0m\n\u001b[0m\u001b[1;32m      5\u001b[0m \u001b[0mprint\u001b[0m\u001b[0;34m(\u001b[0m\u001b[0murl\u001b[0m\u001b[0;34m)\u001b[0m\u001b[0;34m\u001b[0m\u001b[0;34m\u001b[0m\u001b[0m\n",
      "\u001b[0;31mNameError\u001b[0m: name 'client' is not defined"
     ]
    }
   ],
   "source": [
    "\n",
    "time=7*24*60**2+10\n",
    "\n",
    "url=client.generate_presigned_url('get_object',Params=Params,ExpiresIn=time)\n",
    "print(url)"
   ]
  },
  {
   "cell_type": "markdown",
   "metadata": {},
   "source": [
    "<h2 id=\"Section_5\">  How to submit </h2>"
   ]
  },
  {
   "cell_type": "markdown",
   "metadata": {},
   "source": [
    "<p>Once you complete your notebook you will have to share it to be marked. Select the icon on the top right a marked in red in the image below, a dialogue box should open, select the option all&nbsp;content excluding sensitive code cells.</p>\n",
    "\n",
    "<p><img height=\"440\" width=\"700\" src=\"https://s3-api.us-geo.objectstorage.softlayer.net/cf-courses-data/CognitiveClass/PY0101EN/projects/EdX/ReadMe%20files/share_noteook1.png\" alt=\"share notebook\" /></p>\n",
    "<p></p>\n",
    "\n",
    "<p>You can then share the notebook&nbsp; via a&nbsp; URL by scrolling down as shown in the following image:</p>\n",
    "<p style=\"text-align: center;\"> <img height=\"308\" width=\"350\" src=\"https://s3-api.us-geo.objectstorage.softlayer.net/cf-courses-data/CognitiveClass/PY0101EN/projects/EdX/ReadMe%20files/link2.png\"  alt=\"share notebook\" /> </p>"
   ]
  },
  {
   "cell_type": "markdown",
   "metadata": {},
   "source": [
    "<hr>\n",
    "<p>Copyright &copy; 2019 IBM Developer Skills Network. This notebook and its source code are released under the terms of the <a href=\"https://cognitiveclass.ai/mit-license/\">MIT License</a>.</p>"
   ]
  },
  {
   "cell_type": "markdown",
   "metadata": {},
   "source": [
    "<h2>About the Authors:</h2> \n",
    "\n",
    "<a href=\"https://www.linkedin.com/in/joseph-s-50398b136/\">Joseph Santarcangelo</a> has a PhD in Electrical Engineering, his research focused on using machine learning, signal processing, and computer vision to determine how videos impact human cognition. Joseph has been working for IBM since he completed his PhD.\n",
    "<p>\n",
    "Other contributors: <a href=\"https://www.linkedin.com/in/michelleccarey/\">Michelle Carey</a>, <a href=\"www.linkedin.com/in/jiahui-mavis-zhou-a4537814a\">Mavis Zhou</a> \n",
    "</p>"
   ]
  },
  {
   "cell_type": "code",
   "execution_count": null,
   "metadata": {},
   "outputs": [],
   "source": []
  }
 ],
 "metadata": {
  "kernelspec": {
   "display_name": "Python 3.6",
   "language": "python",
   "name": "python3"
  },
  "language_info": {
   "codemirror_mode": {
    "name": "ipython",
    "version": 3
   },
   "file_extension": ".py",
   "mimetype": "text/x-python",
   "name": "python",
   "nbconvert_exporter": "python",
   "pygments_lexer": "ipython3",
   "version": "3.6.9"
  }
 },
 "nbformat": 4,
 "nbformat_minor": 2
}
